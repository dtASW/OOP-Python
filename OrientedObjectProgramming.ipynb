{
 "cells": [
  {
   "attachments": {},
   "cell_type": "markdown",
   "metadata": {},
   "source": [
    "### Object-oriented programming (OOP) \n",
    "\n",
    "#### What is?\n",
    "\n",
    "Object-oriented programming is a programming paradigm that provides a means of structuring programs so that properties and behaviors are bundled into individual objects.\n",
    "\n",
    "For instance, an object could represent a person with properties (attributes) like a name, age, and address and behaviors (methods) such as walking, talking, breathing, and running. Or it could represent an email with properties like a recipient list, subject, and body and behaviors like adding attachments and sending."
   ]
  },
  {
   "cell_type": "code",
   "execution_count": 44,
   "metadata": {},
   "outputs": [
    {
     "name": "stdout",
     "output_type": "stream",
     "text": [
      "<class '__main__.Dog'>\n"
     ]
    }
   ],
   "source": [
    "# Definición de una clase.\n",
    "class Dog:\n",
    "    pass\n",
    "\n",
    "# Instancia de una clase.\n",
    "perrito = Dog()\n",
    "\n",
    "# Consultando el tipo de elemento creado.\n",
    "print(type(perrito))\n"
   ]
  },
  {
   "attachments": {},
   "cell_type": "markdown",
   "metadata": {},
   "source": [
    "In the last example we have a class that doesn't have any functionality or even a property or attribute. \n",
    "If we want add some of these properties in the class, we need to do it through the method called .__init__()\n",
    "\n",
    "For the last example,every time a new Dog object is created, .__init__() sets the initial state of the object by assigning the values of the object’s properties. That is, .__init__() initializes each new instance of the class.\n",
    "\n",
    "You can give .__init__() any number of parameters, but the first parameter will always be a variable called self. When a new class instance is created, the instance is automatically passed to the self parameter in .__init__() so that new attributes can be defined on the object."
   ]
  },
  {
   "cell_type": "code",
   "execution_count": 45,
   "metadata": {},
   "outputs": [
    {
     "name": "stdout",
     "output_type": "stream",
     "text": [
      "firulais 8 Carnivorous vulgaris\n"
     ]
    }
   ],
   "source": [
    "# De nuevo la clase Perro\n",
    "\n",
    "class Dog:\n",
    "    # Esta vez definimos el metodo __init__ para definir algunos atributos \n",
    "    # iniciales asociados a la clase que se inicializaran al momento de instanciar una clase\n",
    "    def __init__(self,name,age):\n",
    "        self.name = name\n",
    "        self.age  = age\n",
    "\n",
    "    #atributo de clase\n",
    "    species = 'Carnivorous vulgaris'\n",
    "\n",
    "# Instancia de la clase\n",
    "perrito = Dog('firulais',8)\n",
    "\n",
    "print(perrito.name,perrito.age,perrito.species)"
   ]
  },
  {
   "attachments": {},
   "cell_type": "markdown",
   "metadata": {},
   "source": [
    "Attributes created in .__init__() are called instance attributes. An instance attribute’s value is specific to a particular instance of the class. All Dog objects have a name and an age, but the values for the name and age attributes will vary depending on the Dog instance.\n",
    "\n",
    "On the other hand, class attributes are attributes that have the same value for all class instances. You can define a class attribute by assigning a value to a variable name outside of .__init__()."
   ]
  },
  {
   "cell_type": "code",
   "execution_count": 46,
   "metadata": {},
   "outputs": [
    {
     "data": {
      "text/plain": [
       "False"
      ]
     },
     "execution_count": 46,
     "metadata": {},
     "output_type": "execute_result"
    }
   ],
   "source": [
    "class Dog:\n",
    "    pass\n",
    "\n",
    "perrito1 = Dog()\n",
    "perrito2 = Dog()\n",
    "\n",
    "perrito1 == perrito2"
   ]
  },
  {
   "attachments": {},
   "cell_type": "markdown",
   "metadata": {},
   "source": [
    "#### The self parameter is a reference to the current instance of the class, and is used to access variables that belongs to the class."
   ]
  },
  {
   "cell_type": "code",
   "execution_count": 47,
   "metadata": {},
   "outputs": [
    {
     "name": "stdout",
     "output_type": "stream",
     "text": [
      "atributos de perro1:\n",
      " nombre: perrimon \n",
      " edad:10  \n",
      " especie: carnivorus vulgaris \n",
      "atributos de perro2:\n",
      " nombre: firulais \n",
      " edad:2  \n",
      " especie: carnivorus vulgaris \n",
      "atributos de perro1:\n",
      " nombre: perrimon \n",
      " edad:5  \n",
      " especie: carnivorus vulgaris \n",
      "atributos de perro2:\n",
      " nombre: firulais \n",
      " edad:2  \n",
      " especie: Starvingus loserus \n"
     ]
    }
   ],
   "source": [
    "class Dog:\n",
    "    def __init__(self,name,age):\n",
    "        self.name = name\n",
    "        self.age  = age\n",
    "\n",
    "    species = 'carnivorus vulgaris'\n",
    "\n",
    "\n",
    "perro1 = Dog('perrimon',10)\n",
    "perro2 = Dog('firulais',2)\n",
    "\n",
    "print(f'atributos de perro1:\\n nombre: {perro1.name} \\n edad:{perro1.age}  \\n especie: {perro1.species} ')\n",
    "print(f'atributos de perro2:\\n nombre: {perro2.name} \\n edad:{perro2.age}  \\n especie: {perro2.species} ')\n",
    "\n",
    "perro1.age = 5\n",
    "perro2.species = 'Starvingus loserus'\n",
    "\n",
    "print(f'atributos de perro1:\\n nombre: {perro1.name} \\n edad:{perro1.age}  \\n especie: {perro1.species} ')\n",
    "print(f'atributos de perro2:\\n nombre: {perro2.name} \\n edad:{perro2.age}  \\n especie: {perro2.species} ')"
   ]
  },
  {
   "cell_type": "code",
   "execution_count": 48,
   "metadata": {},
   "outputs": [
    {
     "name": "stdout",
     "output_type": "stream",
     "text": [
      "<__main__.Dog object at 0x0000022035A6B6A0>\n"
     ]
    }
   ],
   "source": [
    "#Creanding Metodos\n",
    "class Dog:\n",
    "    \n",
    "    species = 'carnivorus vulgaris'\n",
    "\n",
    "    def __init__(self,name,age):\n",
    "        self.name = name\n",
    "        self.age  = age\n",
    "\n",
    "    def description(self):\n",
    "        return f'This is {self.name} and is {self.age} years old'\n",
    "    \n",
    "    def speak(self,sound):\n",
    "        return f'{self.name} says {sound} '\n",
    "   \n",
    "\n",
    "perrimon = Dog('perrimon',2)\n",
    "\n",
    "print(perrimon)"
   ]
  },
  {
   "cell_type": "code",
   "execution_count": 49,
   "metadata": {},
   "outputs": [
    {
     "name": "stdout",
     "output_type": "stream",
     "text": [
      "<__main__.Dog object at 0x0000022034A21780>\n"
     ]
    }
   ],
   "source": [
    "#Creanding Metodos\n",
    "class Dog:\n",
    "    \n",
    "    species = 'carnivorus vulgaris'\n",
    "\n",
    "    def __init__(self,name,age):\n",
    "        self.name = name\n",
    "        self.age  = age\n",
    "\n",
    "    def description(self):\n",
    "        return f'This is {self.name} and is {self.age} years old'\n",
    "    \n",
    "    def speak(self,sound):\n",
    "        return f'{self.name} says {sound} '\n",
    "\n",
    "    def __str__(self) -> str:\n",
    "        return f'name: {self.name} \\n age: {self.age} \\n species: {self.species}'\n",
    "    \n",
    "    perrimon = Dog('perrimon',4)\n",
    "\n",
    "    print(perrimon)"
   ]
  },
  {
   "attachments": {},
   "cell_type": "markdown",
   "metadata": {},
   "source": [
    "### Inheritance"
   ]
  },
  {
   "cell_type": "code",
   "execution_count": 50,
   "metadata": {},
   "outputs": [
    {
     "name": "stdout",
     "output_type": "stream",
     "text": [
      "John, Doe\n"
     ]
    }
   ],
   "source": [
    "import random as rnd\n",
    "\n",
    "class Person:\n",
    "  def __init__(self, fname, lname):\n",
    "    self.firstname = fname\n",
    "    self.lastname = lname\n",
    "\n",
    "\n",
    "  def __str__(self) -> str:\n",
    "    return f'{self.firstname}, {self.lastname}'\n",
    "  \n",
    "  def __repr__(self) -> str:\n",
    "    return f'{self.firstname}, {self.lastname}'\n",
    "  \n",
    "  def nonsensemethod(self):\n",
    "     return rnd.randint(0,10)\n",
    "\n",
    "#Instance the class\n",
    "\n",
    "x = Person(\"John\", \"Doe\")\n",
    "\n",
    "print(x)"
   ]
  },
  {
   "cell_type": "code",
   "execution_count": 51,
   "metadata": {},
   "outputs": [
    {
     "name": "stdout",
     "output_type": "stream",
     "text": [
      "No se que hace\n"
     ]
    }
   ],
   "source": [
    "\n",
    "#Creando una clase hija --> Explicar lo del constructor y el override\n",
    "class Student(Person):\n",
    "   \n",
    "   def __init__(self, fname):\n",
    "     self.firstname = fname\n",
    "   \n",
    "   def __str__(self) -> str:\n",
    "    return f'No se que hace'\n",
    "   \n",
    "y = Student(\"John\")\n",
    "\n",
    "print(y)"
   ]
  },
  {
   "cell_type": "code",
   "execution_count": 52,
   "metadata": {},
   "outputs": [
    {
     "name": "stdout",
     "output_type": "stream",
     "text": [
      "ifDoe , John , 342\n"
     ]
    }
   ],
   "source": [
    "#Creando otra clase hija\n",
    "class Teacher(Person):\n",
    "   \n",
    "    def __init__(self, fname, lname,phonenumber):\n",
    "        super().__init__(fname, lname)\n",
    "        self.phonenumber = phonenumber \n",
    "   \n",
    "    def __str__(self) -> str:\n",
    "        return f'if{self.lastname} , {self.firstname} , {self.phonenumber}'\n",
    "   \n",
    "y = Teacher(\"John\", \"Doe\",342)\n",
    "\n",
    "print(y)"
   ]
  },
  {
   "cell_type": "code",
   "execution_count": 53,
   "metadata": {},
   "outputs": [
    {
     "name": "stdout",
     "output_type": "stream",
     "text": [
      "10\n"
     ]
    }
   ],
   "source": [
    "#Creando una clase nieta\n",
    "class TeacherUniversity(Teacher):\n",
    "   \n",
    "    def __init__(self, fname, lname,phonenumber):\n",
    "        super().__init__(fname, lname,phonenumber)\n",
    "\n",
    "y = TeacherUniversity(\"John\", \"Doe\",342)\n",
    "\n",
    "print(y.nonsensemethod())\n",
    "\n",
    "#del y.firstname\n"
   ]
  },
  {
   "attachments": {},
   "cell_type": "markdown",
   "metadata": {},
   "source": [
    "## Homework"
   ]
  },
  {
   "attachments": {},
   "cell_type": "markdown",
   "metadata": {},
   "source": [
    "### Bank excercise"
   ]
  },
  {
   "cell_type": "code",
   "execution_count": 54,
   "metadata": {},
   "outputs": [
    {
     "name": "stdout",
     "output_type": "stream",
     "text": [
      "01 Deivid 10000\n",
      "New balance: 2310000\n",
      "New balance: 1360000\n",
      "Current balance: 1360000\n",
      "Account number: 01\n",
      "Account holder: Deivid\n"
     ]
    }
   ],
   "source": [
    "class BankAccount:\n",
    "\n",
    "    def __init__(self, account_number,account_holder,account_balance ) -> None:\n",
    "        self.account_number = account_number\n",
    "        self.account_holder = account_holder\n",
    "        self.account_balance = account_balance\n",
    "\n",
    "    def deposit(self, ammount):\n",
    "        self.account_balance = self.account_balance + ammount\n",
    "        print(f'New balance: {self.account_balance}')\n",
    "\n",
    "    def withdraw(self, ammount):\n",
    "            self.account_balance = self.account_balance - ammount\n",
    "            print(f'New balance: {self.account_balance}')\n",
    "        \n",
    "    def get_balance(self):\n",
    "         print(f'Current balance: {self.account_balance}')\n",
    "\n",
    "    def get_account_number(self):\n",
    "         print(f'Account number: {self.account_number}')\n",
    "\n",
    "    def get_account_holder(self):\n",
    "         print(f'Account holder: {self.account_holder}')\n",
    "\n",
    "\n",
    "cuenta01 = BankAccount('01', 'Deivid', 10000)\n",
    "print(cuenta01.account_number, cuenta01.account_holder, cuenta01.account_balance)\n",
    "cuenta01.deposit(2300000)\n",
    "cuenta01.withdraw(950000)\n",
    "cuenta01.get_balance()\n",
    "cuenta01.get_account_number()\n",
    "cuenta01.get_account_holder()\n"
   ]
  },
  {
   "cell_type": "code",
   "execution_count": 55,
   "metadata": {},
   "outputs": [
    {
     "name": "stdout",
     "output_type": "stream",
     "text": [
      "The amount to pay in tax is 200000.0\n",
      "New balance is 4800000.0\n"
     ]
    }
   ],
   "source": [
    "class SavingsAcount(BankAccount):\n",
    "\n",
    "     interest_rate = 4\n",
    "     \n",
    "     def __init__(self, account_number, account_holder, account_balance) -> None:\n",
    "          super().__init__(account_number, account_holder, account_balance)\n",
    "\n",
    "     def add_interest(self):\n",
    "          descuento = (self.interest_rate/100)*self.account_balance\n",
    "          self.account_balance = self.account_balance - descuento\n",
    "          print(f'The amount to pay in tax is {descuento}')\n",
    "          print(f'New balance is {self.account_balance}')\n",
    "\n",
    "cuenta02 = SavingsAcount('02', 'Armando', 5000000)\n",
    "cuenta02.add_interest()"
   ]
  },
  {
   "attachments": {},
   "cell_type": "markdown",
   "metadata": {},
   "source": [
    "## Car rental system"
   ]
  },
  {
   "cell_type": "code",
   "execution_count": 71,
   "metadata": {},
   "outputs": [
    {
     "name": "stdout",
     "output_type": "stream",
     "text": [
      "Registred succesfully\n",
      "{'19/04/2023': ' Car: Chevrolet Model: Mustang Price: 300'}\n",
      "Car not available\n",
      "{'19/04/2023': ' Car: Chevrolet Model: Mustang Price: 300'}\n"
     ]
    }
   ],
   "source": [
    "\n",
    "class Car:\n",
    "\n",
    "    def __init__(self, brand, model, year, rental_price, availability) -> None:\n",
    "        self.brand = brand\n",
    "        self.model = model\n",
    "        self.year = year\n",
    "        self.rental_price = rental_price\n",
    "        self.availability = availability\n",
    "        \n",
    "\n",
    "class Customer():\n",
    "\n",
    "    def __init__(self, name, licence_number) -> None:\n",
    "        self.name = name\n",
    "        self. licence_number = licence_number\n",
    "        self.rental_history = rental_history = []\n",
    "\n",
    "    def registry(self,record):\n",
    "        self.rental_history.append(record)\n",
    "        print('Registred succesfully')\n",
    "        print(record)\n",
    "\n",
    "    def print_history(self):\n",
    "        lista = self.rental_history\n",
    "        for record in lista:\n",
    "            print(record)\n",
    "\n",
    "    \n",
    "class System:\n",
    "\n",
    "    def rent_car(car : Car, customer : Customer, date):\n",
    "        record = {date : f' Car: {car.brand} Model: {car.model} Price: {car.rental_price}'}\n",
    "        if(car.availability == 1):\n",
    "            customer.registry(record)\n",
    "        else:\n",
    "            print('Car not available')\n",
    "\n",
    "    car01 = Car('Chevrolet', 'Mustang', '1998', 300, 1)\n",
    "    car02 = Car('Ford', 'Mustang', '1999', 300, 0)\n",
    "\n",
    "    customer01 = Customer('Deivid', '12345')\n",
    "    customer02 = Customer('Johnatan', '6789')\n",
    "\n",
    "    rent_car(car01, customer01, '19/04/2023')\n",
    "    rent_car(car02, customer02, '19/04/2023')\n",
    "\n",
    "    #Print customer history\n",
    "    customer01.print_history()\n",
    "    customer02.print_history()"
   ]
  }
 ],
 "metadata": {
  "kernelspec": {
   "display_name": "Python 3",
   "language": "python",
   "name": "python3"
  },
  "language_info": {
   "codemirror_mode": {
    "name": "ipython",
    "version": 3
   },
   "file_extension": ".py",
   "mimetype": "text/x-python",
   "name": "python",
   "nbconvert_exporter": "python",
   "pygments_lexer": "ipython3",
   "version": "3.10.9"
  },
  "orig_nbformat": 4
 },
 "nbformat": 4,
 "nbformat_minor": 2
}
